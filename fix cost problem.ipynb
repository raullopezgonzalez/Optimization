{
 "cells": [
  {
   "cell_type": "code",
   "execution_count": 12,
   "metadata": {},
   "outputs": [
    {
     "name": "stdout",
     "output_type": "stream",
     "text": [
      "\n",
      "Problem: \n",
      "- Name: unknown\n",
      "  Lower bound: 88.0\n",
      "  Upper bound: 88.0\n",
      "  Number of objectives: 1\n",
      "  Number of constraints: 5\n",
      "  Number of variables: 7\n",
      "  Number of nonzeros: 10\n",
      "  Sense: minimize\n",
      "Solver: \n",
      "- Status: ok\n",
      "  Termination condition: optimal\n",
      "  Statistics: \n",
      "    Branch and bound: \n",
      "      Number of bounded subproblems: 1\n",
      "      Number of created subproblems: 1\n",
      "  Error rc: 0\n",
      "  Time: 0.17183399200439453\n",
      "Solution: \n",
      "- number of solutions: 0\n",
      "  number of solutions displayed: 0\n",
      "\n",
      "value of x11 is 0.0\n",
      "value of x12 is 300.0\n",
      "value of x13 is 0.0\n",
      "value of x21 is 0.0\n",
      "value of x22 is 1.0\n",
      "value of x23 is 0.0\n",
      "min value is 88.0\n"
     ]
    }
   ],
   "source": [
    "from pyomo.environ import*\n",
    "from pyomo.opt import*\n",
    "\n",
    "model=ConcreteModel()\n",
    "\n",
    "model.x_11=Var(within=NonNegativeIntegers)\n",
    "model.x_12=Var(within=NonNegativeIntegers)\n",
    "model.x_13=Var(within=NonNegativeIntegers)\n",
    "model.x_21=Var(within=Binary)\n",
    "model.x_22=Var(within=Binary)\n",
    "model.x_23=Var(within=Binary)\n",
    "\n",
    "model.obj= Objective(expr= 0.25*model.x_11 + 16*model.x_21 + 0.21*model.x_12 + 25*model.x_22 + 0.25*model.x_13\n",
    "                     +18*model.x_23 , sense=minimize)\n",
    "\n",
    "model.con1= Constraint(expr= model.x_11 + model.x_12 + model.x_13 ==300)\n",
    "model.con2= Constraint(expr= model.x_11 <=300*model.x_21)\n",
    "model.con3= Constraint(expr= model.x_12 <=300*model.x_22)\n",
    "model.con4= Constraint(expr= model.x_13 <=300*model.x_23)\n",
    "\n",
    "Solver= SolverFactory('glpk')\n",
    "results= Solver.solve(model)\n",
    "print(results)\n",
    "\n",
    "print('value of x11 is', value(model.x_11))\n",
    "print('value of x12 is', value(model.x_12))\n",
    "print('value of x13 is', value(model.x_13))\n",
    "print('value of x21 is', value(model.x_21))\n",
    "print('value of x22 is', value(model.x_22))\n",
    "print('value of x23 is', value(model.x_23))\n",
    "print('min value is', value(model.obj))"
   ]
  },
  {
   "cell_type": "code",
   "execution_count": null,
   "metadata": {},
   "outputs": [],
   "source": []
  }
 ],
 "metadata": {
  "kernelspec": {
   "display_name": "Python 3",
   "language": "python",
   "name": "python3"
  },
  "language_info": {
   "codemirror_mode": {
    "name": "ipython",
    "version": 3
   },
   "file_extension": ".py",
   "mimetype": "text/x-python",
   "name": "python",
   "nbconvert_exporter": "python",
   "pygments_lexer": "ipython3",
   "version": "3.7.3"
  }
 },
 "nbformat": 4,
 "nbformat_minor": 2
}
