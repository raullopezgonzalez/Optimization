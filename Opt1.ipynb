{
 "cells": [
  {
   "cell_type": "code",
   "execution_count": 5,
   "metadata": {},
   "outputs": [
    {
     "name": "stdout",
     "output_type": "stream",
     "text": [
      "6.6\n",
      "-3.0\n",
      "2.5\n"
     ]
    }
   ],
   "source": [
    "from pyomo.environ import*\n",
    "from pyomo.opt import*\n",
    "\n",
    "model = ConcreteModel()\n",
    "\n",
    "model.x_1 = Var(within=Reals)\n",
    "model.x_2 = Var(within=NonNegativeReals)\n",
    "\n",
    "model.obj = Objective(expr = -1.7*model.x_1 + 0.6*model.x_2, sense = maximize)\n",
    "\n",
    "model.con1 = Constraint(expr = -5*model.x_1 -4*model.x_2 <= 5)\n",
    "model.con2 = Constraint(expr = -5*model.x_1 +6*model.x_2 <= 30)\n",
    "model.con3 = Constraint(expr = 5*model.x_1 +2*model.x_2 <= 10)\n",
    "\n",
    "solver = SolverFactory(\"glpk\")\n",
    "results = solver.solve(model)\n",
    "\n",
    "print(value(model.obj))\n",
    "print(value(model.x_1))\n",
    "print(value(model.x_2))"
   ]
  },
  {
   "cell_type": "code",
   "execution_count": null,
   "metadata": {},
   "outputs": [],
   "source": []
  }
 ],
 "metadata": {
  "kernelspec": {
   "display_name": "Python 3",
   "language": "python",
   "name": "python3"
  },
  "language_info": {
   "codemirror_mode": {
    "name": "ipython",
    "version": 3
   },
   "file_extension": ".py",
   "mimetype": "text/x-python",
   "name": "python",
   "nbconvert_exporter": "python",
   "pygments_lexer": "ipython3",
   "version": "3.7.3"
  }
 },
 "nbformat": 4,
 "nbformat_minor": 2
}
