{
 "cells": [
  {
   "cell_type": "code",
   "execution_count": 1,
   "metadata": {},
   "outputs": [
    {
     "name": "stdout",
     "output_type": "stream",
     "text": [
      "\n",
      "Problem: \n",
      "- Name: unknown\n",
      "  Lower bound: 42.0\n",
      "  Upper bound: 42.0\n",
      "  Number of objectives: 1\n",
      "  Number of constraints: 2\n",
      "  Number of variables: 5\n",
      "  Number of nonzeros: 5\n",
      "  Sense: maximize\n",
      "Solver: \n",
      "- Status: ok\n",
      "  Termination condition: optimal\n",
      "  Statistics: \n",
      "    Branch and bound: \n",
      "      Number of bounded subproblems: 5\n",
      "      Number of created subproblems: 5\n",
      "  Error rc: 0\n",
      "  Time: 0.16695833206176758\n",
      "Solution: \n",
      "- number of solutions: 0\n",
      "  number of solutions displayed: 0\n",
      "\n",
      "the value of x1 is 0.0\n",
      "the value of x2 is 1.0\n",
      "the value of x3 is 1.0\n",
      "the value of x4 is 1.0\n",
      "the Maximum is 42.0\n"
     ]
    }
   ],
   "source": [
    "from pyomo.environ import*\n",
    "from pyomo.opt import*\n",
    "\n",
    "model=ConcreteModel()\n",
    "\n",
    "model.x_1=Var(within=Binary)\n",
    "model.x_2=Var(within=Binary)\n",
    "model.x_3=Var(within=Binary)\n",
    "model.x_4=Var(within=Binary)\n",
    "\n",
    "\n",
    "model.obj= Objective(expr= 16*model.x_1+22*model.x_2+12*model.x_3+8*model.x_4, sense=maximize)\n",
    "\n",
    "model.con1=Constraint(expr=5*model.x_1+7*model.x_2+4*model.x_3+3*model.x_4<=14)\n",
    "\n",
    "\n",
    "Solver=SolverFactory('glpk')\n",
    "results=Solver.solve(model)\n",
    "print(results)\n",
    "\n",
    "print('the value of x1 is', value(model.x_1))\n",
    "print('the value of x2 is', value(model.x_2))\n",
    "print('the value of x3 is', value(model.x_3))\n",
    "print('the value of x4 is', value(model.x_4))\n",
    "print('the Maximum is', value(model.obj))"
   ]
  },
  {
   "cell_type": "code",
   "execution_count": null,
   "metadata": {},
   "outputs": [],
   "source": []
  }
 ],
 "metadata": {
  "kernelspec": {
   "display_name": "Python 3",
   "language": "python",
   "name": "python3"
  },
  "language_info": {
   "codemirror_mode": {
    "name": "ipython",
    "version": 3
   },
   "file_extension": ".py",
   "mimetype": "text/x-python",
   "name": "python",
   "nbconvert_exporter": "python",
   "pygments_lexer": "ipython3",
   "version": "3.7.3"
  }
 },
 "nbformat": 4,
 "nbformat_minor": 2
}
