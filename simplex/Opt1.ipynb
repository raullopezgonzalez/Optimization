{
 "cells": [
  {
   "cell_type": "code",
   "execution_count": 1,
   "metadata": {},
   "outputs": [
    {
     "name": "stdout",
     "output_type": "stream",
     "text": [
      "     con: array([0.])\n",
      "     fun: 5.25\n",
      " message: 'Optimization terminated successfully.'\n",
      "     nit: 4\n",
      "   slack: array([-4.4408921e-16,  1.2300000e+01])\n",
      "  status: 0\n",
      " success: True\n",
      "       x: array([7.5, 4.5])\n",
      "optimal value 5.25 value of x [7.5 4.5]\n"
     ]
    }
   ],
   "source": [
    "from scipy.optimize import linprog\n",
    "c=[0.4,0.5]\n",
    "A_nm=[[0.3,0.1],[-0.6,-0.4]]\n",
    "B_nm=[2.7,6]\n",
    "A_eq=[[0.5,0.5]]\n",
    "B_eq=[6]\n",
    "var=linprog(c,A_nm,B_nm,A_eq,B_eq,bounds=(0,None))\n",
    "\n",
    "print(var)\n",
    "\n",
    "print(\"optimal value\",var.fun,\"value of x\",var.x)"
   ]
  },
  {
   "cell_type": "code",
   "execution_count": null,
   "metadata": {},
   "outputs": [],
   "source": []
  }
 ],
 "metadata": {
  "kernelspec": {
   "display_name": "Python 3",
   "language": "python",
   "name": "python3"
  },
  "language_info": {
   "codemirror_mode": {
    "name": "ipython",
    "version": 3
   },
   "file_extension": ".py",
   "mimetype": "text/x-python",
   "name": "python",
   "nbconvert_exporter": "python",
   "pygments_lexer": "ipython3",
   "version": "3.7.3"
  }
 },
 "nbformat": 4,
 "nbformat_minor": 2
}
