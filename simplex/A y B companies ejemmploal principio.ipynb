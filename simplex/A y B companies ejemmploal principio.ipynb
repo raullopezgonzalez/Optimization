{
 "cells": [
  {
   "cell_type": "code",
   "execution_count": 4,
   "metadata": {},
   "outputs": [
    {
     "name": "stdout",
     "output_type": "stream",
     "text": [
      "     con: array([], dtype=float64)\n",
      "     fun: -50.0\n",
      " message: 'Optimization terminated successfully.'\n",
      "     nit: 4\n",
      "   slack: array([ 0., 10.])\n",
      "  status: 0\n",
      " success: True\n",
      "       x: array([ 0., 10.])\n"
     ]
    }
   ],
   "source": [
    "from scipy.optimize import linprog\n",
    "C = [-3,-5]\n",
    "A = [[1,1],[3,1]]\n",
    "B = [10,20]\n",
    "result = linprog(C,A,B,bounds=(0,None))\n",
    "print(result)"
   ]
  },
  {
   "cell_type": "code",
   "execution_count": null,
   "metadata": {},
   "outputs": [],
   "source": []
  }
 ],
 "metadata": {
  "kernelspec": {
   "display_name": "Python 3",
   "language": "python",
   "name": "python3"
  },
  "language_info": {
   "codemirror_mode": {
    "name": "ipython",
    "version": 3
   },
   "file_extension": ".py",
   "mimetype": "text/x-python",
   "name": "python",
   "nbconvert_exporter": "python",
   "pygments_lexer": "ipython3",
   "version": "3.7.3"
  }
 },
 "nbformat": 4,
 "nbformat_minor": 2
}
