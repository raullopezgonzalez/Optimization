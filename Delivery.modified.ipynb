{
 "cells": [
  {
   "cell_type": "markdown",
   "metadata": {},
   "source": [
    "## Code made by me and my partner Hugo Calero \n",
    "### Second delivery adds enhancements by taking into account email's teacher"
   ]
  },
  {
   "cell_type": "code",
   "execution_count": 5,
   "metadata": {},
   "outputs": [
    {
     "name": "stdout",
     "output_type": "stream",
     "text": [
      "WARNING: Implicitly replacing the Component attribute con13 (type=<class\n",
      "    'pyomo.core.base.constraint.SimpleConstraint'>) on block unknown with a\n",
      "    new Component (type=<class\n",
      "    'pyomo.core.base.constraint.SimpleConstraint'>). This is usually\n",
      "    indicative of a modelling error. To avoid this warning, use\n",
      "    block.del_component() and block.add_component().\n",
      "\n",
      "Problem: \n",
      "- Name: unknown\n",
      "  Lower bound: 190.0\n",
      "  Upper bound: 190.0\n",
      "  Number of objectives: 1\n",
      "  Number of constraints: 14\n",
      "  Number of variables: 22\n",
      "  Number of nonzeros: 61\n",
      "  Sense: minimize\n",
      "Solver: \n",
      "- Status: ok\n",
      "  Termination condition: optimal\n",
      "  Statistics: \n",
      "    Branch and bound: \n",
      "      Number of bounded subproblems: 1\n",
      "      Number of created subproblems: 1\n",
      "  Error rc: 0\n",
      "  Time: 0.24154162406921387\n",
      "Solution: \n",
      "- number of solutions: 0\n",
      "  number of solutions displayed: 0\n",
      "\n",
      "\n",
      "Value in results 0/1\n",
      "Value equals 0 = no use\n",
      "Value equals 1 = use\n",
      "\n",
      "1º nurse to 1 patient is 0.0\n",
      "1º nurse after 1 patient to 2 is 0.0\n",
      "1º nurse after 1 patient to 4 is 0.0\n",
      "1º nurse after 1 patient,2 to 4 is 0.0\n",
      "1º nurse after 1 patient,4 to 2 is 0.0\n",
      "\n",
      "1ºnurse to 2 patient is 0.0\n",
      "1º nurse after 2 patient to 1 is 0.0\n",
      "1º nurse after 2 to 4 is 0.0\n",
      "1º nurse after 2,1 to 4 is 0.0\n",
      "1º nurse after 2,4 to 1 is 1.0\n",
      "\n",
      "1º nurse to 4 patient is 1.0\n",
      "1º nurse after 4 patient 1 is 0.0\n",
      "1º nurse after 4 to 2 is 1.0\n",
      "1º nurse after 4,1 patient to 2 is 0.0\n",
      "1º nurse after 4,2 patient to 1 is 0.0\n",
      "\n",
      "2º nurse to 1 patient is 0.0\n",
      "2º nurse to 4 patient is 1.0\n",
      "2º nurse after 1 patient to 4 is 0.0\n",
      "2º nurse after 4 patient to 1 is 1.0\n",
      "\n",
      "the Load for nurse 1º is 95.0 in minutes\n",
      "the Load for nurse 2º is 95.0 in minutes\n"
     ]
    }
   ],
   "source": [
    "from pyomo.environ import*\n",
    "from pyomo.opt import*\n",
    "\n",
    "model=ConcreteModel()\n",
    "\n",
    "model.Load2=Var(within=NonNegativeReals)\n",
    "model.Load1=Var(within=NonNegativeReals)\n",
    "\n",
    "model.n1_1=Var(within=Binary)\n",
    "model.n1_12=Var(within=Binary)\n",
    "model.n1_14=Var(within=Binary)\n",
    "model.n1_124=Var(within=Binary)\n",
    "model.n1_142=Var(within=Binary)\n",
    "\n",
    "\n",
    "model.n1_2=Var(within=Binary)\n",
    "model.n1_21=Var(within=Binary)\n",
    "model.n1_24=Var(within=Binary)\n",
    "model.n1_214=Var(within=Binary)\n",
    "model.n1_241=Var(within=Binary)\n",
    "\n",
    "\n",
    "model.n1_4=Var(within=Binary)\n",
    "model.n1_41=Var(within=Binary)\n",
    "model.n1_42=Var(within=Binary)\n",
    "model.n1_412=Var(within=Binary)\n",
    "model.n1_421=Var(within=Binary)\n",
    "\n",
    "\n",
    "model.n2_1=Var(within=Binary)\n",
    "model.n2_4=Var(within=Binary)\n",
    "model.n2_14=Var(within=Binary)\n",
    "model.n2_41=Var(within=Binary)\n",
    "\n",
    "\n",
    "t = [30, 20, 13, 15, 22, 45]#Travel times in exact order as table in paper delivered\n",
    "d = [30,55,30]#Duration times in exact order as table in paper delivered\n",
    "\n",
    "\n",
    "model.obj1= Objective(expr=model.Load2+model.Load1,sense=minimize)\n",
    "\n",
    "\n",
    "model.con1=Constraint(expr=model.Load1<=(7/6)*model.Load2)\n",
    "model.con2=Constraint(expr=model.Load2<=(7/6)*model.Load1)\n",
    "\n",
    "model.con3=Constraint(expr= model.n1_1*(t[0]+d[0])+model.n1_2*(t[3]+d[1])+model.n1_4*(t[4]+d[2])+\n",
    "                      model.n1_12*(t[1]+d[1])\n",
    "                      +model.n1_14*(t[2]+d[2])+model.n1_21*(t[1]+d[0])+model.n1_24*(t[5]+d[2])+\n",
    "                      model.n1_41*(t[2]+d[0])+\n",
    "                      model.n1_42(t[5]+d[1])+model.n1_124*(t[5]+d[2])+model.n1_142*(t[5]+d[1])+\n",
    "                      model.n1_214*(t[2]+d[2])\n",
    "                      +model.n1_241*(t[2]+d[0])+model.n1_412*(t[1]+d[1])+model.n1_421*(t[1]+d[0])\n",
    "                      ==model.Load1)\n",
    "\n",
    "model.con4=Constraint(expr= model.n2_1*(t[0]+d[0])+model.n2_4*(t[4]+d[2])+model.n2_41*(t[2]+d[0])+\n",
    "                      model.n2_14*(t[2]+d[2])\n",
    "                      ==model.Load2)\n",
    "\n",
    "model.con5=Constraint(expr= model.n1_1+model.n1_2 +model.n1_4==1)\n",
    "model.con6=Constraint(expr= model.n2_1+model.n2_4==1)\n",
    "model.con7=Constraint(expr= model.n1_12+model.n1_14+model.n1_21+model.n1_24+model.n1_41+model.n1_42==1)\n",
    "model.con8=Constraint(expr= model.n2_14+model.n2_41==1)\n",
    "model.con9=Constraint(expr= model.n1_124+model.n1_142+model.n1_214+model.n1_241+model.n1_412+model.n1_421==1)\n",
    "model.con10=Constraint(expr=model.n1_1+model.n1_21+model.n1_41+model.n1_241+model.n1_421==1)\n",
    "model.con11=Constraint(expr=model.n1_2+model.n1_12+model.n1_42+model.n1_142+model.n1_412==1)\n",
    "model.con12=Constraint(expr=model.n1_4+model.n1_14+model.n1_24+model.n1_124+model.n1_214==1)\n",
    "model.con13=Constraint(expr=model.n2_1+model.n2_41==1)\n",
    "model.con13=Constraint(expr=model.n2_4+model.n2_14==1)\n",
    "\n",
    "\n",
    "Solver=SolverFactory('glpk')\n",
    "results=Solver.solve(model)\n",
    "print(results)\n",
    "\n",
    "print(\"\")#Blanck spaces\n",
    "print(\"Value in results 0/1\")\n",
    "print(\"Value equals 0 = no use\")    #Explanation of results\n",
    "print(\"Value equals 1 = use\")\n",
    "print(\"\")#Blanck spaces\n",
    "\n",
    "print(\"1º nurse to 1 patient is\",value(model.n1_1))\n",
    "print(\"1º nurse after 1 patient to 2 is\",value(model.n1_12))\n",
    "print(\"1º nurse after 1 patient to 4 is\",value(model.n1_14))\n",
    "print(\"1º nurse after 1 patient,2 to 4 is\",value(model.n1_124))\n",
    "print(\"1º nurse after 1 patient,4 to 2 is\",value(model.n1_142))\n",
    "print(\"\")#Blanck spaces\n",
    "print(\"1ºnurse to 2 patient is\",value(model.n1_2))\n",
    "print(\"1º nurse after 2 patient to 1 is\",value(model.n1_21))\n",
    "print(\"1º nurse after 2 to 4 is\",value(model.n1_24))\n",
    "print(\"1º nurse after 2,1 to 4 is\",value(model.n1_214))\n",
    "print(\"1º nurse after 2,4 to 1 is\",value(model.n1_241))\n",
    "print(\"\")#Blanck spaces\n",
    "print(\"1º nurse to 4 patient is\",value(model.n1_4))\n",
    "print(\"1º nurse after 4 patient 1 is\",value(model.n1_41))\n",
    "print(\"1º nurse after 4 to 2 is\",value(model.n1_42))\n",
    "print(\"1º nurse after 4,1 patient to 2 is\",value(model.n1_412))\n",
    "print(\"1º nurse after 4,2 patient to 1 is\",value(model.n1_421))\n",
    "\n",
    "print(\"\")#Blanck spaces\n",
    "print(\"2º nurse to 1 patient is\",value(model.n2_1))\n",
    "print(\"2º nurse to 4 patient is\",value(model.n2_4))\n",
    "print(\"2º nurse after 1 patient to 4 is\",value(model.n2_14))\n",
    "print(\"2º nurse after 4 patient to 1 is\",value(model.n2_41))\n",
    "\n",
    "print(\"\")#Blanck spaces\n",
    "print('the Load for nurse 1º is', value(model.Load1),'in minutes')\n",
    "print('the Load for nurse 2º is', value(model.Load2),'in minutes')"
   ]
  },
  {
   "cell_type": "markdown",
   "metadata": {},
   "source": [
    "## Additions to the code with examples"
   ]
  },
  {
   "cell_type": "markdown",
   "metadata": {},
   "source": [
    "#### Here the problem is that I'm not able to put into the code with specific constraints etc in the case that user adds patients "
   ]
  },
  {
   "cell_type": "markdown",
   "metadata": {},
   "source": [
    "#### Also that with travel times changes is easy to put a function in order to modify data already created but in the case that user whants add new patients so new ways to connects patients and new routes to nurses, I don't know how iterate the data in a list so that code is able to recognize that the first elements are assigned to routes from patien 1º and 2º but the 12 index of the list is related with routes from patient 5º and 3º as an example."
   ]
  },
  {
   "cell_type": "code",
   "execution_count": 13,
   "metadata": {},
   "outputs": [],
   "source": [
    "b = [30,55,30] #Duration times in exact order as table in paper delivered"
   ]
  },
  {
   "cell_type": "code",
   "execution_count": 28,
   "metadata": {},
   "outputs": [],
   "source": [
    "#d_t as duration times\n",
    "def d_t(time,patient):\n",
    "    print(\"You have put as time value:\",time)                       #In order to let user know where is he/she\n",
    "    print(\"You are changing patient data from patient nº:\",patient) #putting the values in case mistake \n",
    "    if patient > len(b):\n",
    "        b.append(time)\n",
    "    elif patient <= len(b):\n",
    "        pat_pos = patient -1\n",
    "        b[pat_pos] = time\n",
    "        "
   ]
  },
  {
   "cell_type": "code",
   "execution_count": 29,
   "metadata": {},
   "outputs": [
    {
     "name": "stdout",
     "output_type": "stream",
     "text": [
      "You have put as time value: 31\n",
      "You are changing patient data from patient nº: 1\n"
     ]
    }
   ],
   "source": [
    "d_t(31,1)"
   ]
  },
  {
   "cell_type": "code",
   "execution_count": 30,
   "metadata": {},
   "outputs": [
    {
     "data": {
      "text/plain": [
       "[31, 55, 30]"
      ]
     },
     "execution_count": 30,
     "metadata": {},
     "output_type": "execute_result"
    }
   ],
   "source": [
    "b"
   ]
  },
  {
   "cell_type": "code",
   "execution_count": 32,
   "metadata": {},
   "outputs": [
    {
     "name": "stdout",
     "output_type": "stream",
     "text": [
      "You have put as time value: 15\n",
      "You are changing patient data from patient nº: 4\n"
     ]
    }
   ],
   "source": [
    "d_t(15,4)"
   ]
  },
  {
   "cell_type": "code",
   "execution_count": 33,
   "metadata": {},
   "outputs": [
    {
     "data": {
      "text/plain": [
       "[31, 55, 30, 15]"
      ]
     },
     "execution_count": 33,
     "metadata": {},
     "output_type": "execute_result"
    }
   ],
   "source": [
    "b"
   ]
  },
  {
   "cell_type": "code",
   "execution_count": 34,
   "metadata": {},
   "outputs": [
    {
     "name": "stdout",
     "output_type": "stream",
     "text": [
      "You have put as time value: 20\n",
      "You are changing patient data from patient nº: 4\n"
     ]
    }
   ],
   "source": [
    "d_t(20,4)"
   ]
  },
  {
   "cell_type": "code",
   "execution_count": 35,
   "metadata": {},
   "outputs": [
    {
     "data": {
      "text/plain": [
       "[31, 55, 30, 20]"
      ]
     },
     "execution_count": 35,
     "metadata": {},
     "output_type": "execute_result"
    }
   ],
   "source": [
    "b"
   ]
  }
 ],
 "metadata": {
  "kernelspec": {
   "display_name": "Python 3",
   "language": "python",
   "name": "python3"
  },
  "language_info": {
   "codemirror_mode": {
    "name": "ipython",
    "version": 3
   },
   "file_extension": ".py",
   "mimetype": "text/x-python",
   "name": "python",
   "nbconvert_exporter": "python",
   "pygments_lexer": "ipython3",
   "version": "3.7.3"
  }
 },
 "nbformat": 4,
 "nbformat_minor": 2
}
