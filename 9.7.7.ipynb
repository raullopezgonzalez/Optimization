{
 "cells": [
  {
   "cell_type": "code",
   "execution_count": 1,
   "metadata": {},
   "outputs": [
    {
     "name": "stdout",
     "output_type": "stream",
     "text": [
      "\n",
      "Problem: \n",
      "- Name: unknown\n",
      "  Lower bound: 2925.0\n",
      "  Upper bound: 2925.0\n",
      "  Number of objectives: 1\n",
      "  Number of constraints: 8\n",
      "  Number of variables: 8\n",
      "  Number of nonzeros: 17\n",
      "  Sense: minimize\n",
      "Solver: \n",
      "- Status: ok\n",
      "  Termination condition: optimal\n",
      "  Statistics: \n",
      "    Branch and bound: \n",
      "      Number of bounded subproblems: 1\n",
      "      Number of created subproblems: 1\n",
      "  Error rc: 0\n",
      "  Time: 0.21048998832702637\n",
      "Solution: \n",
      "- number of solutions: 0\n",
      "  number of solutions displayed: 0\n",
      "\n",
      "the value of xAD is 100.0\n",
      "the value of xAC is 25.0\n",
      "the value of xBA is 0.0\n",
      "the value of xBC is 100.0\n",
      "the value of xBE is 100.0\n",
      "the value of xCD is 75.0\n",
      "the value of xCE is 50.0\n",
      "the Minimun is 2925.0\n"
     ]
    }
   ],
   "source": [
    "from pyomo.environ import*\n",
    "from pyomo.opt import*\n",
    "\n",
    "model=ConcreteModel()\n",
    "\n",
    "model.x_AD=Var(within=NonNegativeIntegers)\n",
    "model.x_AC=Var(within=NonNegativeIntegers)\n",
    "model.x_BA=Var(within=NonNegativeIntegers)\n",
    "model.x_BC=Var(within=NonNegativeIntegers)\n",
    "model.x_BE=Var(within=NonNegativeIntegers)\n",
    "model.x_CD=Var(within=NonNegativeIntegers)\n",
    "model.x_CE=Var(within=NonNegativeIntegers)\n",
    "\n",
    "model.obj= Objective(expr=9*model.x_AD+6*model.x_AC+2*model.x_BA+3*model.x_BC+\n",
    "                     8*model.x_BE+5*model.x_CD+8*model.x_CE, sense=minimize)\n",
    "\n",
    "model.con1=Constraint(expr=-model.x_BA+model.x_AD+model.x_AC==125)\n",
    "model.con2=Constraint(expr=model.x_BA+model.x_BC+model.x_BE==200)\n",
    "model.con3=Constraint(expr=-model.x_AC-model.x_BC+model.x_CD+model.x_CE==0)\n",
    "model.con4=Constraint(expr=-model.x_AD-model.x_CD==-175)\n",
    "model.con5=Constraint(expr=-model.x_BE-model.x_CE==-150)\n",
    "model.con6=Constraint(expr=model.x_AD<=100)\n",
    "model.con7=Constraint(expr=model.x_BE<=100)\n",
    "\n",
    "Solver=SolverFactory('glpk')\n",
    "results=Solver.solve(model)\n",
    "print(results)\n",
    "\n",
    "print('the value of xAD is', value(model.x_AD))\n",
    "print('the value of xAC is', value(model.x_AC))\n",
    "print('the value of xBA is', value(model.x_BA))\n",
    "print('the value of xBC is', value(model.x_BC))\n",
    "print('the value of xBE is', value(model.x_BE))\n",
    "print('the value of xCD is', value(model.x_CD))\n",
    "print('the value of xCE is', value(model.x_CE))\n",
    "print('the Minimun is', value(model.obj))"
   ]
  },
  {
   "cell_type": "code",
   "execution_count": null,
   "metadata": {},
   "outputs": [],
   "source": []
  }
 ],
 "metadata": {
  "kernelspec": {
   "display_name": "Python 3",
   "language": "python",
   "name": "python3"
  },
  "language_info": {
   "codemirror_mode": {
    "name": "ipython",
    "version": 3
   },
   "file_extension": ".py",
   "mimetype": "text/x-python",
   "name": "python",
   "nbconvert_exporter": "python",
   "pygments_lexer": "ipython3",
   "version": "3.7.3"
  }
 },
 "nbformat": 4,
 "nbformat_minor": 2
}
